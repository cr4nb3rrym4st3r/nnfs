{
  "cells": [
    {
      "cell_type": "code",
      "execution_count": null,
      "metadata": {
        "id": "6QhkvBZ-FNBt"
      },
      "outputs": [],
      "source": [
        "import numpy as np\n",
        "\n",
        "np.random.seed(0)\n",
        "\n",
        "X = [[1, 2, 3, 4]]\n",
        "X1 = [[1, 2, 3, 4],\n",
        "     [5, 6, 7, 8],\n",
        "     [9, 10, 11, 12]]\n",
        "class layer:\n",
        "    def __init__(self, ninputs, nneurons):\n",
        "        self.nneurons = nneurons\n",
        "        self.weights = np.random.randn(ninputs, nneurons)\n",
        "        self.biases = np.zeros((1, nneurons))\n",
        "    def forward(self, inputs):\n",
        "        self.outputs = np.dot(inputs, self.weights) + self.biases"
      ]
    },
    {
      "cell_type": "code",
      "execution_count": null,
      "metadata": {
        "id": "tHEpVK9GFNBz",
        "outputId": "a65a10bb-fcbc-470e-e3a9-3eabee644c5f"
      },
      "outputs": [
        {
          "name": "stdout",
          "output_type": "stream",
          "text": [
            "inputs\n",
            "[[1, 2, 3, 4]]\n",
            "weights layer 1\n",
            "[[-1.07075262  1.05445173 -0.40317695  1.22244507  0.20827498]\n",
            " [ 0.97663904  0.3563664   0.70657317  0.01050002  1.78587049]\n",
            " [ 0.12691209  0.40198936  1.8831507  -1.34775906 -1.270485  ]\n",
            " [ 0.96939671 -1.17312341  1.94362119 -0.41361898 -0.74745481]]\n",
            "outputs layer 1\n",
            "[[ 5.14084856 -1.71934101 14.43390622 -4.45430799 -3.02125828]]\n",
            "weights layer 2\n",
            "[[ 1.92294203  1.48051479  1.86755896  0.90604466]\n",
            " [-0.86122569  1.91006495 -0.26800337  0.8024564 ]\n",
            " [ 0.94725197 -0.15501009  0.61407937  0.92220667]\n",
            " [ 0.37642553 -1.09940079  0.29823817  1.3263859 ]\n",
            " [-0.69456786 -0.14963454 -0.43515355  1.84926373]]\n",
            "outputs layer 2\n",
            "[[25.4605941   7.43880251 18.91145761  5.09395216]]\n",
            "weights layer 3\n",
            "[[ 0.67229476]\n",
            " [ 0.40746184]\n",
            " [-0.76991607]\n",
            " [ 0.53924919]]\n",
            "final outputs\n",
            "[[8.33472643]]\n"
          ]
        }
      ],
      "source": [
        "nNpL = [len(X[0]), 5, 4, 1]\n",
        "\n",
        "layers = [layer(nNpL[i], nNpL[i+1]) for i in range(0, len(nNpL)-1)]\n",
        "\n",
        "for i in range (0, len(layers)):\n",
        "    if i == 0:\n",
        "        print(\"inputs\")\n",
        "        print(X)\n",
        "        layers[i].forward(X)\n",
        "    else:\n",
        "        layers[i].forward(layers[i-1].outputs)\n",
        "    print(\"weights layer\", i+1)\n",
        "    print(layers[i].weights)\n",
        "    if i != len(layers)-1:\n",
        "        print(\"outputs layer\", i+1)\n",
        "    else:\n",
        "        print(\"final outputs\")\n",
        "    print(layers[i].outputs)\n",
        "\n",
        "\n",
        ""
      ]
    },
    {
      "cell_type": "code",
      "execution_count": null,
      "metadata": {
        "id": "0-0PAOldFNB3"
      },
      "outputs": [],
      "source": []
    }
  ],
  "metadata": {
    "kernelspec": {
      "display_name": "Python 3 (ipykernel)",
      "language": "python",
      "name": "python3"
    },
    "language_info": {
      "codemirror_mode": {
        "name": "ipython",
        "version": 3
      },
      "file_extension": ".py",
      "mimetype": "text/x-python",
      "name": "python",
      "nbconvert_exporter": "python",
      "pygments_lexer": "ipython3",
      "version": "3.8.11"
    },
    "colab": {
      "provenance": []
    }
  },
  "nbformat": 4,
  "nbformat_minor": 0
}